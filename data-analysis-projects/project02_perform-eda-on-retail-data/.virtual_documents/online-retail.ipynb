




















# your code here
import unidecode

# Standard operational package imports.
import pandas as pd
import numpy as np

# Visualization package imports.
import matplotlib
import seaborn as sns

# Others
import calendar as cal
import re
import random

# Important imports for preprocessing, modeling, and evaluation.
from statsmodels.stats.outliers_influence \
    import variance_inflation_factor as smvif
import statsmodels.formula.api as smfapi
import statsmodels.api as smapi
import statsmodels.tools.tools as smtools
import statsmodels.stats.multicomp as smmulti
import sklearn.model_selection as sklmodslct
import sklearn.linear_model as skllinmod
import sklearn.metrics as sklmtrcs


# importing all my important data analysis functions
import data_analysis_functions





# load the online-retail dataset xlsx
data = pd.read_excel("online-retail_dataset.xlsx")
data_analysis_functions.df_head(data,10)





# get all data types of the columns
print("number rows and columns before dropna(axis=0)")
data_analysis_functions.df_print_row_and_columns(data)
old_row_numbers = data.shape[0]
print("")

print("data types:")
data_analysis_functions.df_info_dtypes(data)
print("")

# get summary statistics
print("summary statistics:")
print(data.describe())
print("")

# removing empty rows
data = data.dropna(axis=0).reset_index(drop=True)
print("number rows and columns after dropna(axis=0)")
data_analysis_functions.df_print_row_and_columns(data)
new_row_numbers = data.shape[0]

# % missing data
percentage_nadata = format(1-(new_row_numbers/old_row_numbers),"0.2%")
print("{} missing (null) data".format(percentage_nadata))









# get all exploratory stats about CENTRAL TENDENCY
data_mode = data[['Quantity','UnitPrice','Country']].agg([pd.Series.mode])
print(data_mode)
data_mean = data[['Quantity','UnitPrice']].agg([pd.Series.mean])
print(data_mean)
data_median = data[['Quantity','UnitPrice']].agg([pd.Series.median])
print(data_median)


# get all exploratory stats about SPREAD
data_std = data[['Quantity','UnitPrice']].agg([pd.Series.std])
print(data_std)
data_skew = data[['Quantity','UnitPrice']].agg([pd.Series.skew])
print(data_skew)
print("")
# data_iqr = data[['Quantity','UnitPrice']].agg([pd.Series.quantile(q=0.25)])\
#           - data[['Quantity','UnitPrice']].agg([pd.Series.quantile(q=0.75)]) 
# print(data_iqr)

# use histogram with vertical axlines for mean and mode and the like-
#data_analysis_functions.df_histplotter(data, "Quantity", 2)
#data_analysis_functions.df_histplotter(data, "UnitPrice", 2)






