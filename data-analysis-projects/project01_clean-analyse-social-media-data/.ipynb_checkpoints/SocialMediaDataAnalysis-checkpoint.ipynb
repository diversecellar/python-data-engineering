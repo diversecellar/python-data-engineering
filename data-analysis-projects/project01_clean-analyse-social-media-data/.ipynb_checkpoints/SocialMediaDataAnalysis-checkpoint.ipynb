{
 "cells": [
  {
   "cell_type": "markdown",
   "metadata": {},
   "source": [
    "# Clean & Analyze Social Media"
   ]
  },
  {
   "cell_type": "markdown",
   "metadata": {},
   "source": [
    "## Introduction\n",
    "\n",
    "Social media has become a ubiquitous part of modern life, with platforms such as Instagram, Twitter, and Facebook serving as essential communication channels. Social media data sets are vast and complex, making analysis a challenging task for businesses and researchers alike. In this project, we explore a simulated social media, for example Tweets, data set to understand trends in likes across different categories.\n",
    "\n",
    "## Prerequisites\n",
    "\n",
    "To follow along with this project, you should have a basic understanding of Python programming and data analysis concepts. In addition, you may want to use the following packages in your Python environment:\n",
    "\n",
    "- pandas\n",
    "- Matplotlib\n",
    "- ...\n",
    "\n",
    "These packages should already be installed in Coursera's Jupyter Notebook environment, however if you'd like to install additional packages that are not included in this environment or are working off platform you can install additional packages using `!pip install packagename` within a notebook cell such as:\n",
    "\n",
    "- `!pip install pandas`\n",
    "- `!pip install matplotlib`\n",
    "\n",
    "## Project Scope\n",
    "\n",
    "The objective of this project is to analyze tweets (or other social media data) and gain insights into user engagement. We will explore the data set using visualization techniques to understand the distribution of likes across different categories. Finally, we will analyze the data to draw conclusions about the most popular categories and the overall engagement on the platform.\n",
    "\n",
    "## Step 1: Importing Required Libraries\n",
    "\n",
    "As the name suggests, the first step is to import all the necessary libraries that will be used in the project. In this case, we need pandas, numpy, matplotlib, seaborn, and random libraries.\n",
    "\n",
    "Pandas is a library used for data manipulation and analysis. Numpy is a library used for numerical computations. Matplotlib is a library used for data visualization. Seaborn is a library used for statistical data visualization. Random is a library used to generate random numbers."
   ]
  },
  {
   "cell_type": "code",
   "execution_count": 1,
   "metadata": {},
   "outputs": [],
   "source": [
    "# your code here\n",
    "import unidecode\n",
    "\n",
    "# Standard operational package imports.\n",
    "import pandas as pd\n",
    "import numpy as np\n",
    "\n",
    "# Visualization package imports.\n",
    "import matplotlib\n",
    "import seaborn as sns\n",
    "\n",
    "# Others\n",
    "import calendar as cal\n",
    "import re\n",
    "import random\n",
    "\n",
    "# Important imports for preprocessing, modeling, and evaluation.\n",
    "from statsmodels.stats.outliers_influence \\\n",
    "    import variance_inflation_factor as smvif\n",
    "import statsmodels.formula.api as smfapi\n",
    "import statsmodels.api as smapi\n",
    "import statsmodels.tools.tools as smtools\n",
    "import statsmodels.stats.multicomp as smmulti\n",
    "import sklearn.model_selection as sklmodslct\n",
    "import sklearn.linear_model as skllinmod\n",
    "import sklearn.metrics as sklmtrcs"
   ]
  },
  {
   "cell_type": "code",
   "execution_count": 2,
   "metadata": {},
   "outputs": [],
   "source": [
    "# importing all my important data analysis functions\n",
    "import data_analysis_functions"
   ]
  },
  {
   "cell_type": "markdown",
   "metadata": {},
   "source": [
    "## Generating Random Data\n",
    "\n",
    "We are meant to generate Random Data for each field of data including categories such as \"Fashion\", \"Fitness\", \"Music\" \"Culture\", \"Politics\", \"Family\" and \"Health\" (which are ofcourse discrete variables)\n",
    "\n",
    "Continuous varibles must be data such as \"No. Likes\", \"No. Retweets\" and \"No. Views\"\n",
    "\n",
    "Datetime Variables such as \"Date Tweeted\" # we will look at bulk data in one year, since it is one company\n",
    "\n"
   ]
  },
  {
   "cell_type": "code",
   "execution_count": 3,
   "metadata": {},
   "outputs": [
    {
     "name": "stdout",
     "output_type": "stream",
     "text": [
      "        Date\n",
      "0 2024-08-14\n",
      "1 2024-06-22\n",
      "2 2024-08-27\n",
      "3 2024-11-24\n",
      "4 2024-03-11\n",
      "5 2024-01-05\n",
      "6 2024-01-27\n",
      "7 2024-11-16\n",
      "8 2024-03-26\n",
      "9 2024-02-28\n"
     ]
    }
   ],
   "source": [
    "# generating random dates in the year 2024\n",
    "# intitialise dataframe\n",
    "data_twitter = pd.DataFrame()\n",
    "intended_sample_size = 650\n",
    "\n",
    "# initialising random dates\n",
    "start_date = pd.to_datetime('2024-01-01')\n",
    "end_date = pd.to_datetime('2024-12-31')\n",
    "days_in_year = (end_date-start_date).days # this correspnds to number of total tweets\n",
    "data_twitter['Date'] = start_date + pd.to_timedelta\\\n",
    "    (np.random.randint(days_in_year,size=intended_sample_size), unit='d')\n",
    "data_analysis_functions.df_head(data_twitter,10)"
   ]
  },
  {
   "cell_type": "code",
   "execution_count": 4,
   "metadata": {},
   "outputs": [
    {
     "name": "stdout",
     "output_type": "stream",
     "text": [
      "        Date  Category\n",
      "0 2024-08-14   Fashion\n",
      "1 2024-06-22   Fashion\n",
      "2 2024-08-27   Fitness\n",
      "3 2024-11-24    Family\n",
      "4 2024-03-11    Family\n",
      "5 2024-01-05   Fitness\n",
      "6 2024-01-27  Politics\n",
      "7 2024-11-16   Fitness\n",
      "8 2024-03-26     Music\n",
      "9 2024-02-28   Culture\n"
     ]
    }
   ],
   "source": [
    "# categories\n",
    "categories = [\"Fashion\", \"Fitness\", \"Music\", \"Culture\",\\\n",
    "              \"Politics\", \"Family\", \"Health\"]\n",
    "data_twitter['Category'] = [random.choice(categories) for _ in range(intended_sample_size)]\n",
    "data_analysis_functions.df_head(data_twitter,10)"
   ]
  },
  {
   "cell_type": "code",
   "execution_count": 5,
   "metadata": {},
   "outputs": [
    {
     "name": "stdout",
     "output_type": "stream",
     "text": [
      "        Date  Category  Num. of Likes\n",
      "0 2024-08-14   Fashion           1914\n",
      "1 2024-06-22   Fashion           1456\n",
      "2 2024-08-27   Fitness           2165\n",
      "3 2024-11-24    Family            110\n",
      "4 2024-03-11    Family           1982\n",
      "5 2024-01-05   Fitness            101\n",
      "6 2024-01-27  Politics            707\n",
      "7 2024-11-16   Fitness             39\n",
      "8 2024-03-26     Music           1361\n",
      "9 2024-02-28   Culture           1037\n"
     ]
    }
   ],
   "source": [
    "# categories\n",
    "realistic_likes_threshold = 2500\n",
    "num_likes = np.random.randint(realistic_likes_threshold,size=intended_sample_size)\n",
    "data_twitter['Num_of_Likes'] = [random.choice(num_likes) for _ in range(intended_sample_size)]\n",
    "data_analysis_functions.df_head(data_twitter,10)"
   ]
  },
  {
   "cell_type": "code",
   "execution_count": 6,
   "metadata": {},
   "outputs": [
    {
     "name": "stdout",
     "output_type": "stream",
     "text": [
      "<class 'pandas.core.frame.DataFrame'>\n",
      "RangeIndex: 650 entries, 0 to 649\n",
      "Data columns (total 3 columns):\n",
      " #   Column         Non-Null Count  Dtype         \n",
      "---  ------         --------------  -----         \n",
      " 0   Date           650 non-null    datetime64[ns]\n",
      " 1   Category       650 non-null    object        \n",
      " 2   Num. of Likes  650 non-null    int64         \n",
      "dtypes: datetime64[ns](1), int64(1), object(1)\n",
      "memory usage: 15.4+ KB\n",
      "None\n",
      "                                Date  Num. of Likes\n",
      "count                            650     650.000000\n",
      "mean   2024-06-24 05:52:14.769230592    1321.926154\n",
      "min              2024-01-01 00:00:00      26.000000\n",
      "25%              2024-03-25 06:00:00     724.250000\n",
      "50%              2024-06-16 00:00:00    1365.500000\n",
      "75%              2024-09-22 18:00:00    1912.500000\n",
      "max              2024-12-30 00:00:00    2496.000000\n",
      "std                              NaN     699.576414\n",
      "         Category\n",
      "            count\n",
      "Category         \n",
      "Culture        91\n",
      "Family         95\n",
      "Fashion        98\n",
      "Fitness        96\n",
      "Health         98\n",
      "Music          92\n",
      "Politics       80\n"
     ]
    }
   ],
   "source": [
    "# descriptive stats about our df\n",
    "# print data types\n",
    "data_analysis_functions.df_info_dtypes(data_twitter)\n",
    "# descriptive summary\n",
    "print(data_twitter.describe())\n",
    "# counts of each category element\n",
    "category_counts = data_analysis_functions.df_groupby_mask_operate(data_twitter,\\\n",
    "    'Category', 'Category', 0, '0', 'count')\n",
    "print(category_counts)\n",
    "    "
   ]
  },
  {
   "cell_type": "code",
   "execution_count": 7,
   "metadata": {},
   "outputs": [
    {
     "name": "stdout",
     "output_type": "stream",
     "text": [
      "        Date  Category  Num. of Likes\n",
      "0 2024-08-14   Fashion           1914\n",
      "1 2024-06-22   Fashion           1456\n",
      "2 2024-08-27   Fitness           2165\n",
      "3 2024-11-24    Family            110\n",
      "4 2024-03-11    Family           1982\n",
      "5 2024-01-05   Fitness            101\n",
      "6 2024-01-27  Politics            707\n",
      "7 2024-11-16   Fitness             39\n",
      "8 2024-03-26     Music           1361\n",
      "9 2024-02-28   Culture           1037\n"
     ]
    }
   ],
   "source": [
    "# removing all possible null data\n",
    "data_twitter = data_twitter.dropna(axis=0).reset_index(drop=True)\n",
    "\n",
    "# convert dataframe date fields to datetime (already done)\n",
    "data_analysis_functions.df_datetime_converter(data_twitter)\n",
    "data_analysis_functions.df_head(data_twitter,10)"
   ]
  },
  {
   "cell_type": "code",
   "execution_count": 8,
   "metadata": {},
   "outputs": [
    {
     "data": {
      "image/png": "[encoded data removed]",
      "text/plain": [
       "<Figure size 680x510 with 1 Axes>"
      ]
     },
     "metadata": {},
     "output_type": "display_data"
    }
   ],
   "source": [
    "# plot histogram of likes\n",
    "data_analysis_functions.df_histplotter(data_twitter, \"Num_of_Likes\",2)"
   ]
  },
  {
   "cell_type": "code",
   "execution_count": 9,
   "metadata": {},
   "outputs": [
    {
     "data": {
      "image/png": "[encoded data removed]",
      "text/plain": [
       "<Figure size 800x600 with 1 Axes>"
      ]
     },
     "metadata": {},
     "output_type": "display_data"
    }
   ],
   "source": [
    "# boxplot of category\n",
    "data_analysis_functions.df_boxplotter(data_twitter, \"Category\", \"Num_of_Likes\",2)"
   ]
  },
  {
   "cell_type": "code",
   "execution_count": 10,
   "metadata": {},
   "outputs": [
    {
     "name": "stdout",
     "output_type": "stream",
     "text": [
      "There are an average of 1321.93 Likes per tweet\n"
     ]
    }
   ],
   "source": [
    "# mean likes \n",
    "mean_likes = np.round(data_twitter['Num_of_Likes'].agg(['mean']).values[0],2)\n",
    "print(\"There are an average of {} Likes per tweet\".format(mean_likes))"
   ]
  },
  {
   "cell_type": "code",
   "execution_count": 11,
   "metadata": {},
   "outputs": [
    {
     "name": "stdout",
     "output_type": "stream",
     "text": [
      "         Num. of Likes\n",
      "                  mean\n",
      "Category              \n",
      "Culture    1323.307692\n",
      "Family     1262.989474\n",
      "Fashion    1369.357143\n",
      "Fitness    1359.364583\n",
      "Health     1370.142857\n",
      "Music      1253.228261\n",
      "Politics   1307.250000\n"
     ]
    }
   ],
   "source": [
    "# mean likes grouped by category\n",
    "mean_likes_grouped = data_analysis_functions.df_groupby_mask_operate(data_twitter,\\\n",
    "                        'Category', 'Num_of_Likes', 0, '0', 'mean')\n",
    "print(mean_likes_grouped)"
   ]
  },
  {
   "cell_type": "markdown",
   "metadata": {},
   "source": [
    "## Early Inferences\n",
    "\n",
    "We can see how there is no real shape to the distribution of Likes amongst categories, with most categories scoring a mean of 1100 likes. The box plot also shows the quartiles and outliers, which seem to be all similar amongst all likes categories.\n",
    "\n",
    "We used here NumPy and random seeding and sampling, thus all the data in each category is independent of each \n"
   ]
  },
  {
   "cell_type": "markdown",
   "metadata": {},
   "source": [
    "## Advanced Hypothesis Testing using Regression Analysis\n",
    "\n",
    "We can see perform a one-way ANOVA test on the Num_of_Likes using the Categories as a Categorical predictor. We do this by \n"
   ]
  },
  {
   "cell_type": "code",
   "execution_count": 12,
   "metadata": {},
   "outputs": [
    {
     "ename": "SyntaxError",
     "evalue": "invalid syntax (<unknown>, line 1)",
     "output_type": "error",
     "traceback": [
      "Traceback \u001b[0;36m(most recent call last)\u001b[0m:\n",
      "\u001b[0m  File \u001b[1;32m~/jupyter-env/lib/python3.12/site-packages/IPython/core/interactiveshell.py:3577\u001b[0m in \u001b[1;35mrun_code\u001b[0m\n    exec(code_obj, self.user_global_ns, self.user_ns)\u001b[0m\n",
      "\u001b[0m  Cell \u001b[1;32mIn[12], line 2\u001b[0m\n    data_analysis_functions.lr_ols_model(data_twitter, col_response=\"Num. of Likes\",\\\u001b[0m\n",
      "\u001b[0m  File \u001b[1;32m~/python-data-engineering/data-analysis-projects/project01_clean-analyse-social-media-data/data_analysis_functions.py:329\u001b[0m in \u001b[1;35mlr_ols_model\u001b[0m\n    lr_OLS = statsmodels.formula.api.ols(formula=lr_ols_formula, data=lr_ols_data)\u001b[0m\n",
      "\u001b[0m  File \u001b[1;32m~/jupyter-env/lib/python3.12/site-packages/statsmodels/base/model.py:203\u001b[0m in \u001b[1;35mfrom_formula\u001b[0m\n    tmp = handle_formula_data(data, None, formula, depth=eval_env,\u001b[0m\n",
      "\u001b[0m  File \u001b[1;32m~/jupyter-env/lib/python3.12/site-packages/statsmodels/formula/formulatools.py:63\u001b[0m in \u001b[1;35mhandle_formula_data\u001b[0m\n    result = dmatrices(formula, Y, depth, return_type='dataframe',\u001b[0m\n",
      "\u001b[0m  File \u001b[1;32m~/jupyter-env/lib/python3.12/site-packages/patsy/highlevel.py:319\u001b[0m in \u001b[1;35mdmatrices\u001b[0m\n    (lhs, rhs) = _do_highlevel_design(\u001b[0m\n",
      "\u001b[0m  File \u001b[1;32m~/jupyter-env/lib/python3.12/site-packages/patsy/highlevel.py:164\u001b[0m in \u001b[1;35m_do_highlevel_design\u001b[0m\n    design_infos = _try_incr_builders(\u001b[0m\n",
      "\u001b[0m  File \u001b[1;32m~/jupyter-env/lib/python3.12/site-packages/patsy/highlevel.py:56\u001b[0m in \u001b[1;35m_try_incr_builders\u001b[0m\n    return design_matrix_builders(\u001b[0m\n",
      "\u001b[0m  File \u001b[1;32m~/jupyter-env/lib/python3.12/site-packages/patsy/build.py:743\u001b[0m in \u001b[1;35mdesign_matrix_builders\u001b[0m\n    factor_states = _factors_memorize(all_factors, data_iter_maker, eval_env)\u001b[0m\n",
      "\u001b[0m  File \u001b[1;32m~/jupyter-env/lib/python3.12/site-packages/patsy/build.py:393\u001b[0m in \u001b[1;35m_factors_memorize\u001b[0m\n    which_pass = factor.memorize_passes_needed(state, eval_env)\u001b[0m\n",
      "\u001b[0m  File \u001b[1;32m~/jupyter-env/lib/python3.12/site-packages/patsy/eval.py:504\u001b[0m in \u001b[1;35mmemorize_passes_needed\u001b[0m\n    subset_names = [name for name in ast_names(self.code) if name in env_namespace]\u001b[0m\n",
      "\u001b[0m  File \u001b[1;32m~/jupyter-env/lib/python3.12/site-packages/patsy/eval.py:111\u001b[0m in \u001b[1;35mast_names\u001b[0m\n    for node in ast.walk(ast.parse(code)):\u001b[0m\n",
      "\u001b[0;36m  File \u001b[0;32m/usr/lib/python3.12/ast.py:52\u001b[0;36m in \u001b[0;35mparse\u001b[0;36m\n\u001b[0;31m    return compile(source, filename, mode, flags,\u001b[0;36m\n",
      "\u001b[0;36m  File \u001b[0;32m<unknown>:1\u001b[0;36m\u001b[0m\n\u001b[0;31m    Num.of Likes\u001b[0m\n\u001b[0m           ^\u001b[0m\n\u001b[0;31mSyntaxError\u001b[0m\u001b[0;31m:\u001b[0m invalid syntax\n"
     ]
    }
   ],
   "source": [
    "# one way Linear Regression Analysis\n",
    "data_analysis_functions.lr_ols_model(data_twitter, col_response=\"Num_of_Likes\",\\\n",
    "                col_cont_predictors=[], col_cat_predictors=[\"Category\"])"
   ]
  },
  {
   "cell_type": "markdown",
   "metadata": {},
   "source": [
    "## Functions I've Written for Data Analysis\n",
    "\n",
    "Please check the data_analysis_functions for some bespoke data analysis functions that made this analysis 10 times easier.\n",
    "\n",
    "ALL THE FUNCTIONS I WROTE MYSELF.\n"
   ]
  },
  {
   "cell_type": "code",
   "execution_count": null,
   "metadata": {},
   "outputs": [],
   "source": []
  }
 ],
 "metadata": {
  "kernelspec": {
   "display_name": "Python 3 (ipykernel)",
   "language": "python",
   "name": "python3"
  },
  "language_info": {
   "codemirror_mode": {
    "name": "ipython",
    "version": 3
   },
   "file_extension": ".py",
   "mimetype": "text/x-python",
   "name": "python",
   "nbconvert_exporter": "python",
   "pygments_lexer": "ipython3",
   "version": "3.12.3"
  }
 },
 "nbformat": 4,
 "nbformat_minor": 4
}
