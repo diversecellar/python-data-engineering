{
 "cells": [
  {
   "cell_type": "markdown",
   "metadata": {},
   "source": [
    "# Clean & Analyze Social Media"
   ]
  },
  {
   "cell_type": "markdown",
   "metadata": {},
   "source": [
    "## Introduction\n",
    "\n",
    "Social media has become a ubiquitous part of modern life, with platforms such as Instagram, Twitter, and Facebook serving as essential communication channels. Social media data sets are vast and complex, making analysis a challenging task for businesses and researchers alike. In this project, we explore a simulated social media, for example Tweets, data set to understand trends in likes across different categories.\n",
    "\n",
    "## Prerequisites\n",
    "\n",
    "To follow along with this project, you should have a basic understanding of Python programming and data analysis concepts. In addition, you may want to use the following packages in your Python environment:\n",
    "\n",
    "- pandas\n",
    "- Matplotlib\n",
    "- ...\n",
    "\n",
    "These packages should already be installed in Coursera's Jupyter Notebook environment, however if you'd like to install additional packages that are not included in this environment or are working off platform you can install additional packages using `!pip install packagename` within a notebook cell such as:\n",
    "\n",
    "- `!pip install pandas`\n",
    "- `!pip install matplotlib`\n",
    "\n",
    "## Project Scope\n",
    "\n",
    "The objective of this project is to analyze tweets (or other social media data) and gain insights into user engagement. We will explore the data set using visualization techniques to understand the distribution of likes across different categories. Finally, we will analyze the data to draw conclusions about the most popular categories and the overall engagement on the platform.\n",
    "\n",
    "## Step 1: Importing Required Libraries\n",
    "\n",
    "As the name suggests, the first step is to import all the necessary libraries that will be used in the project. In this case, we need pandas, numpy, matplotlib, seaborn, and random libraries.\n",
    "\n",
    "Pandas is a library used for data manipulation and analysis. Numpy is a library used for numerical computations. Matplotlib is a library used for data visualization. Seaborn is a library used for statistical data visualization. Random is a library used to generate random numbers."
   ]
  },
  {
   "cell_type": "code",
   "execution_count": 1,
   "metadata": {},
   "outputs": [],
   "source": [
    "# your code here\n",
    "import unidecode\n",
    "\n",
    "# Standard operational package imports.\n",
    "import pandas as pd\n",
    "import numpy as np\n",
    "\n",
    "# Visualization package imports.\n",
    "import matplotlib\n",
    "import seaborn as sns\n",
    "\n",
    "# Others\n",
    "import calendar as cal\n",
    "import re\n",
    "import random\n",
    "\n",
    "# Important imports for preprocessing, modeling, and evaluation.\n",
    "from statsmodels.stats.outliers_influence \\\n",
    "    import variance_inflation_factor as smvif\n",
    "import statsmodels.formula.api as smfapi\n",
    "import statsmodels.api as smapi\n",
    "import statsmodels.tools.tools as smtools\n",
    "import statsmodels.stats.multicomp as smmulti\n",
    "import sklearn.model_selection as sklmodslct\n",
    "import sklearn.linear_model as skllinmod\n",
    "import sklearn.metrics as sklmtrcs"
   ]
  },
  {
   "cell_type": "code",
   "execution_count": 2,
   "metadata": {},
   "outputs": [],
   "source": [
    "# importing all my important data analysis functions\n",
    "import data_analysis_functions"
   ]
  },
  {
   "cell_type": "markdown",
   "metadata": {},
   "source": [
    "## Generating Random Data\n",
    "\n",
    "We are meant to generate Random Data for each field of data including categories such as \"Fashion\", \"Fitness\", \"Music\" \"Culture\", \"Politics\", \"Family\" and \"Health\" (which are ofcourse discrete variables)\n",
    "\n",
    "Continuous varibles must be data such as \"No. Likes\", \"No. Retweets\" and \"No. Views\"\n",
    "\n",
    "Datetime Variables such as \"Date Tweeted\" # we will look at bulk data in one year, since it is one company\n",
    "\n"
   ]
  },
  {
   "cell_type": "code",
   "execution_count": 3,
   "metadata": {},
   "outputs": [
    {
     "name": "stdout",
     "output_type": "stream",
     "text": [
      "        Date\n",
      "0 2024-07-28\n",
      "1 2024-06-30\n",
      "2 2024-09-02\n",
      "3 2024-02-05\n",
      "4 2024-10-26\n",
      "5 2024-10-26\n",
      "6 2024-06-28\n",
      "7 2024-04-01\n",
      "8 2024-06-30\n",
      "9 2024-09-19\n"
     ]
    }
   ],
   "source": [
    "# generating random dates in the year 2024\n",
    "# intitialise dataframe\n",
    "data_twitter = pd.DataFrame()\n",
    "intended_sample_size = 650\n",
    "\n",
    "# initialising random dates\n",
    "start_date = pd.to_datetime('2024-01-01')\n",
    "end_date = pd.to_datetime('2024-12-31')\n",
    "days_in_year = (end_date-start_date).days # this correspnds to number of total tweets\n",
    "data_twitter['Date'] = start_date + pd.to_timedelta\\\n",
    "    (np.random.randint(days_in_year,size=intended_sample_size), unit='d')\n",
    "data_analysis_functions.df_head(data_twitter,10)"
   ]
  },
  {
   "cell_type": "code",
   "execution_count": 4,
   "metadata": {},
   "outputs": [
    {
     "name": "stdout",
     "output_type": "stream",
     "text": [
      "        Date  Category\n",
      "0 2024-07-28    Health\n",
      "1 2024-06-30   Fitness\n",
      "2 2024-09-02   Fashion\n",
      "3 2024-02-05    Health\n",
      "4 2024-10-26  Politics\n",
      "5 2024-10-26     Music\n",
      "6 2024-06-28     Music\n",
      "7 2024-04-01   Fitness\n",
      "8 2024-06-30   Fashion\n",
      "9 2024-09-19   Fashion\n"
     ]
    }
   ],
   "source": [
    "# categories\n",
    "categories = [\"Fashion\", \"Fitness\", \"Music\", \"Culture\",\\\n",
    "              \"Politics\", \"Family\", \"Health\"]\n",
    "data_twitter['Category'] = [random.choice(categories) for _ in range(intended_sample_size)]\n",
    "data_analysis_functions.df_head(data_twitter,10)"
   ]
  },
  {
   "cell_type": "code",
   "execution_count": 5,
   "metadata": {},
   "outputs": [
    {
     "name": "stdout",
     "output_type": "stream",
     "text": [
      "        Date  Category  Num_of_Likes\n",
      "0 2024-07-28    Health            84\n",
      "1 2024-06-30   Fitness           994\n",
      "2 2024-09-02   Fashion           325\n",
      "3 2024-02-05    Health          1446\n",
      "4 2024-10-26  Politics           497\n",
      "5 2024-10-26     Music          2199\n",
      "6 2024-06-28     Music           799\n",
      "7 2024-04-01   Fitness           506\n",
      "8 2024-06-30   Fashion          1686\n",
      "9 2024-09-19   Fashion          1210\n"
     ]
    }
   ],
   "source": [
    "# categories\n",
    "realistic_likes_threshold = 2500\n",
    "num_likes = np.random.randint(realistic_likes_threshold,size=intended_sample_size)\n",
    "data_twitter['Num_of_Likes'] = [random.choice(num_likes) for _ in range(intended_sample_size)]\n",
    "data_analysis_functions.df_head(data_twitter,10)"
   ]
  },
  {
   "cell_type": "code",
   "execution_count": 6,
   "metadata": {},
   "outputs": [
    {
     "name": "stdout",
     "output_type": "stream",
     "text": [
      "<class 'pandas.core.frame.DataFrame'>\n",
      "RangeIndex: 650 entries, 0 to 649\n",
      "Data columns (total 3 columns):\n",
      " #   Column        Non-Null Count  Dtype         \n",
      "---  ------        --------------  -----         \n",
      " 0   Date          650 non-null    datetime64[ns]\n",
      " 1   Category      650 non-null    object        \n",
      " 2   Num_of_Likes  650 non-null    int64         \n",
      "dtypes: datetime64[ns](1), int64(1), object(1)\n",
      "memory usage: 15.4+ KB\n",
      "None\n",
      "                                Date  Num_of_Likes\n",
      "count                            650    650.000000\n",
      "mean   2024-07-05 02:12:55.384615424   1284.281538\n",
      "min              2024-01-01 00:00:00      0.000000\n",
      "25%              2024-04-03 00:00:00    618.750000\n",
      "50%              2024-07-07 12:00:00   1341.500000\n",
      "75%              2024-10-07 00:00:00   1934.750000\n",
      "max              2024-12-30 00:00:00   2495.000000\n",
      "std                              NaN    755.921103\n",
      "         Category\n",
      "            count\n",
      "Category         \n",
      "Culture        92\n",
      "Family        101\n",
      "Fashion       102\n",
      "Fitness        80\n",
      "Health         96\n",
      "Music          85\n",
      "Politics       94\n"
     ]
    }
   ],
   "source": [
    "# descriptive stats about our df\n",
    "# print data types\n",
    "data_analysis_functions.df_info_dtypes(data_twitter)\n",
    "# descriptive summary\n",
    "print(data_twitter.describe())\n",
    "# counts of each category element\n",
    "category_counts = data_analysis_functions.df_groupby_mask_operate(data_twitter,\\\n",
    "    'Category', 'Category', 0, '0', 'count')\n",
    "print(category_counts)\n",
    "    "
   ]
  },
  {
   "cell_type": "code",
   "execution_count": 7,
   "metadata": {},
   "outputs": [
    {
     "name": "stdout",
     "output_type": "stream",
     "text": [
      "        Date  Category  Num_of_Likes\n",
      "0 2024-07-28    Health            84\n",
      "1 2024-06-30   Fitness           994\n",
      "2 2024-09-02   Fashion           325\n",
      "3 2024-02-05    Health          1446\n",
      "4 2024-10-26  Politics           497\n",
      "5 2024-10-26     Music          2199\n",
      "6 2024-06-28     Music           799\n",
      "7 2024-04-01   Fitness           506\n",
      "8 2024-06-30   Fashion          1686\n",
      "9 2024-09-19   Fashion          1210\n"
     ]
    }
   ],
   "source": [
    "# removing all possible null data\n",
    "data_twitter = data_twitter.dropna(axis=0).reset_index(drop=True)\n",
    "\n",
    "# convert dataframe date fields to datetime (already done)\n",
    "data_analysis_functions.df_datetime_converter(data_twitter)\n",
    "data_analysis_functions.df_head(data_twitter,10)"
   ]
  },
  {
   "cell_type": "code",
   "execution_count": 8,
   "metadata": {},
   "outputs": [
    {
     "data": {
      "image/png": "[encoded data removed]",
      "text/plain": [
       "<Figure size 680x510 with 1 Axes>"
      ]
     },
     "metadata": {},
     "output_type": "display_data"
    }
   ],
   "source": [
    "# plot histogram of likes\n",
    "data_analysis_functions.df_histplotter(data_twitter, \"Num_of_Likes\",2)"
   ]
  },
  {
   "cell_type": "code",
   "execution_count": 9,
   "metadata": {},
   "outputs": [
    {
     "data": {
      "image/png": "[encoded data removed]",
      "text/plain": [
       "<Figure size 800x600 with 1 Axes>"
      ]
     },
     "metadata": {},
     "output_type": "display_data"
    }
   ],
   "source": [
    "# boxplot of category\n",
    "data_analysis_functions.df_boxplotter(data_twitter, \"Category\", \"Num_of_Likes\",2)"
   ]
  },
  {
   "cell_type": "code",
   "execution_count": 10,
   "metadata": {},
   "outputs": [
    {
     "name": "stdout",
     "output_type": "stream",
     "text": [
      "There are an average of 1284.28 Likes per tweet\n"
     ]
    }
   ],
   "source": [
    "# mean likes \n",
    "mean_likes = np.round(data_twitter['Num_of_Likes'].agg(['mean']).values[0],2)\n",
    "print(\"There are an average of {} Likes per tweet\".format(mean_likes))"
   ]
  },
  {
   "cell_type": "code",
   "execution_count": 11,
   "metadata": {},
   "outputs": [
    {
     "name": "stdout",
     "output_type": "stream",
     "text": [
      "         Num_of_Likes\n",
      "                 mean\n",
      "Category             \n",
      "Culture   1372.097826\n",
      "Family    1406.702970\n",
      "Fashion   1242.676471\n",
      "Fitness   1244.950000\n",
      "Health    1141.031250\n",
      "Music     1305.976471\n",
      "Politics  1272.095745\n"
     ]
    }
   ],
   "source": [
    "# mean likes grouped by category\n",
    "mean_likes_grouped = data_analysis_functions.df_groupby_mask_operate(data_twitter,\\\n",
    "                        'Category', 'Num_of_Likes', 0, '0', 'mean')\n",
    "print(mean_likes_grouped)"
   ]
  },
  {
   "cell_type": "markdown",
   "metadata": {},
   "source": [
    "## Early Inferences\n",
    "\n",
    "We can see how there is no real shape to the distribution of Likes amongst categories, with most categories scoring a mean of 1100 likes. The box plot also shows the quartiles and outliers, which seem to be all similar amongst all likes categories.\n",
    "\n",
    "We used here NumPy and random seeding and sampling, thus all the data in each category is independent of each \n"
   ]
  },
  {
   "cell_type": "markdown",
   "metadata": {},
   "source": [
    "## Advanced Hypothesis Testing using Regression Analysis\n",
    "\n",
    "We can see perform a one-way ANOVA test on the Num_of_Likes using the Categories as a Categorical predictor. We do this by \n"
   ]
  },
  {
   "cell_type": "code",
   "execution_count": 12,
   "metadata": {},
   "outputs": [
    {
     "name": "stdout",
     "output_type": "stream",
     "text": [
      "running simple linear regression model...\n",
      "regressed variable: Num_of_Likes\n",
      "continuous predictors: []\n",
      "categorical predictors: []\n"
     ]
    },
    {
     "data": {
      "text/plain": [
       "{'Summary': <class 'statsmodels.iolib.summary.Summary'>\n",
       " \"\"\"\n",
       "                             OLS Regression Results                            \n",
       " ==============================================================================\n",
       " Dep. Variable:           Num_of_Likes   R-squared:                       0.012\n",
       " Model:                            OLS   Adj. R-squared:                  0.003\n",
       " Method:                 Least Squares   F-statistic:                     1.330\n",
       " Date:                Mon, 17 Mar 2025   Prob (F-statistic):              0.241\n",
       " Time:                        22:43:23   Log-Likelihood:                -5226.0\n",
       " No. Observations:                 650   AIC:                         1.047e+04\n",
       " Df Residuals:                     643   BIC:                         1.050e+04\n",
       " Df Model:                           6                                         \n",
       " Covariance Type:            nonrobust                                         \n",
       " ===========================================================================================\n",
       "                               coef    std err          t      P>|t|      [0.025      0.975]\n",
       " -------------------------------------------------------------------------------------------\n",
       " Intercept                1372.0978     78.690     17.437      0.000    1217.577    1526.619\n",
       " C(Category)[T.Family]      34.6051    108.777      0.318      0.750    -178.996     248.207\n",
       " C(Category)[T.Fashion]   -129.4214    108.523     -1.193      0.233    -342.523      83.681\n",
       " C(Category)[T.Fitness]   -127.1478    115.382     -1.102      0.271    -353.720      99.424\n",
       " C(Category)[T.Health]    -231.0666    110.119     -2.098      0.036    -447.304     -14.830\n",
       " C(Category)[T.Music]      -66.1214    113.553     -0.582      0.561    -289.100     156.858\n",
       " C(Category)[T.Politics]  -100.0021    110.691     -0.903      0.367    -317.362     117.358\n",
       " ==============================================================================\n",
       " Omnibus:                      624.880   Durbin-Watson:                   2.139\n",
       " Prob(Omnibus):                  0.000   Jarque-Bera (JB):               43.135\n",
       " Skew:                          -0.109   Prob(JB):                     4.30e-10\n",
       " Kurtosis:                       1.757   Cond. No.                         7.91\n",
       " ==============================================================================\n",
       " \n",
       " Notes:\n",
       " [1] Standard Errors assume that the covariance matrix of the errors is correctly specified.\n",
       " \"\"\",\n",
       " 'Residuals': 0     -1057.031250\n",
       " 1      -250.950000\n",
       " 2      -917.676471\n",
       " 3       304.968750\n",
       " 4      -775.095745\n",
       "           ...     \n",
       " 645      73.904255\n",
       " 646     366.297030\n",
       " 647     159.323529\n",
       " 648     488.297030\n",
       " 649    -334.976471\n",
       " Length: 650, dtype: float64,\n",
       " 'FittedValues': 0      1141.031250\n",
       " 1      1244.950000\n",
       " 2      1242.676471\n",
       " 3      1141.031250\n",
       " 4      1272.095745\n",
       "           ...     \n",
       " 645    1272.095745\n",
       " 646    1406.702970\n",
       " 647    1242.676471\n",
       " 648    1406.702970\n",
       " 649    1305.976471\n",
       " Length: 650, dtype: float64}"
      ]
     },
     "execution_count": 12,
     "metadata": {},
     "output_type": "execute_result"
    }
   ],
   "source": [
    "# one way Linear Regression Analysis\n",
    "data_analysis_functions.lr_ols_model(data_twitter, col_response=\"Num_of_Likes\",\\\n",
    "                col_cont_predictors=[], col_cat_predictors=[\"Category\"])"
   ]
  },
  {
   "cell_type": "markdown",
   "metadata": {},
   "source": [
    "## Final Inferences\n",
    "\n",
    "1) R-squared = 0.012, an R-squared this low essentially tells us the variance in Likes has nothing to do with Category of the tweets (0.012 is 1.2% of the variance in Likes is explained by the variance of Categories)\n",
    "\n",
    "2) P-values, on the Health category with a P-value = 3.6%, has stastistically significant effect on the number of tweets. We can confidently Infer that all other categories have no statistically significant impact on the Num_of_Likes per Tweets\n",
    "\n",
    "We can see here that the Category of a tweet is likely to have next to no effect on the Number of Likes a tweet gets.\n"
   ]
  },
  {
   "cell_type": "markdown",
   "metadata": {},
   "source": [
    "## Functions I've Written for Data Analysis\n",
    "\n",
    "Please check the data_analysis_functions for some bespoke data analysis functions that made this analysis 10 times easier.\n",
    "\n",
    "ALL THE FUNCTIONS I WROTE MYSELF.\n"
   ]
  }
 ],
 "metadata": {
  "kernelspec": {
   "display_name": "Python 3 (ipykernel)",
   "language": "python",
   "name": "python3"
  },
  "language_info": {
   "codemirror_mode": {
    "name": "ipython",
    "version": 3
   },
   "file_extension": ".py",
   "mimetype": "text/x-python",
   "name": "python",
   "nbconvert_exporter": "python",
   "pygments_lexer": "ipython3",
   "version": "3.12.3"
  }
 },
 "nbformat": 4,
 "nbformat_minor": 4
}
